{
 "cells": [
  {
   "cell_type": "code",
   "execution_count": 1,
   "metadata": {},
   "outputs": [],
   "source": [
    "class Cliente:\n",
    "    def __init__(self, n, fone):\n",
    "        \n",
    "        self._nome = n\n",
    "        self._telefone = fone\n",
    "        \n",
    "    #método get\n",
    "    def get_nome(self):\n",
    "        return self._nome\n",
    "    \n",
    "    #método set\n",
    "    def set_nome(self, nome):\n",
    "        self._nome = nome\n"
   ]
  },
  {
   "cell_type": "code",
   "execution_count": 2,
   "metadata": {},
   "outputs": [],
   "source": [
    "class Conta:\n",
    "    def __init__(self, titular, numero, saldo):\n",
    "        self.saldo = 0\n",
    "        self.numero = numero\n",
    "        self.titular = titular\n",
    "        \n",
    "    def saque(self, valor):\n",
    "        if self.saldo >= valor:\n",
    "            self.saldo -= valor\n",
    "            print(\"Saque realizado com sucesso\")\n",
    "        else:\n",
    "            print(\"Saldo insuficiente\")\n",
    "    \n",
    "    def deposita(self, valor):\n",
    "        self.saldo += valor\n",
    "        \n",
    "    def extrato(self):\n",
    "        print(\"Cliente: \", self.titular, \" Saldo Atual: \", self.saldo)\n",
    "    \n",
    "    def get_saldo(self):\n",
    "        return self._saldo\n",
    "        \n",
    "    def set_saldo(self, saldo):\n",
    "        if (saldo<0):\n",
    "            print(\"O saldo não pode ser negativo\")\n",
    "        else:\n",
    "            self._saldo = saldo"
   ]
  },
  {
   "cell_type": "code",
   "execution_count": 3,
   "metadata": {},
   "outputs": [
    {
     "name": "stdout",
     "output_type": "stream",
     "text": [
      "Saque realizado com sucesso\n",
      "Cliente:  João  Saldo Atual:  50\n"
     ]
    }
   ],
   "source": [
    "class Main:\n",
    "    pass\n",
    "c1 = Cliente(\"João\", \"114444-2222\")\n",
    "conta = Conta(c1.get_nome(), 2555, 1222)\n",
    "\n",
    "conta.deposita(100)\n",
    "conta.saque(50)\n",
    "conta.extrato()"
   ]
  },
  {
   "cell_type": "code",
   "execution_count": null,
   "metadata": {},
   "outputs": [],
   "source": [
    "\"\"\"class Conta:\n",
    "    def __init__(self, titular, numero, saldo):\n",
    "        self.saldo = 0\n",
    "        self.numero = numero\n",
    "        self.titular = titular\n",
    "        \n",
    "    @property\n",
    "    def saldo(self):\n",
    "        return self._saldo\n",
    "    \n",
    "    @saldo.setter\n",
    "    def saldo(self, saldo):\n",
    "        if (saldo <0):\n",
    "            print(\"saldo não pode ser negativo\")\n",
    "        else:\n",
    "            self._saldo = saldo\"\"\""
   ]
  }
 ],
 "metadata": {
  "kernelspec": {
   "display_name": "Python 3",
   "language": "python",
   "name": "python3"
  },
  "language_info": {
   "codemirror_mode": {
    "name": "ipython",
    "version": 3
   },
   "file_extension": ".py",
   "mimetype": "text/x-python",
   "name": "python",
   "nbconvert_exporter": "python",
   "pygments_lexer": "ipython3",
   "version": "3.10.10"
  },
  "orig_nbformat": 4,
  "vscode": {
   "interpreter": {
    "hash": "a141e979f47d0321f552a3a7e629b4f252c2696d405db34dd45befa51abe3df3"
   }
  }
 },
 "nbformat": 4,
 "nbformat_minor": 2
}
