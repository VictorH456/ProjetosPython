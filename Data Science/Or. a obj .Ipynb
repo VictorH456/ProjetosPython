{
 "cells": [
  {
   "attachments": {},
   "cell_type": "markdown",
   "metadata": {},
   "source": [
    "Orientação a objeto\n",
    "Classes e metodos"
   ]
  },
  {
   "cell_type": "code",
   "execution_count": 4,
   "metadata": {},
   "outputs": [
    {
     "name": "stdout",
     "output_type": "stream",
     "text": [
      "<class '__main__.exemplo'>\n"
     ]
    }
   ],
   "source": [
    "class exemplo:\n",
    "    pass\n",
    "x = exemplo()\n",
    "\n",
    "print(type(x))"
   ]
  },
  {
   "cell_type": "code",
   "execution_count": 3,
   "metadata": {},
   "outputs": [
    {
     "name": "stdout",
     "output_type": "stream",
     "text": [
      "10\n",
      "11\n"
     ]
    }
   ],
   "source": [
    "class Dog:\n",
    "    def __init__(self):\n",
    "        self.idade = 10\n",
    "        \n",
    "dog = Dog()\n",
    "dog2 = Dog()\n",
    "\n",
    "dog2.idade = 11\n",
    "\n",
    "print(dog.idade)\n",
    "print(dog2.idade)"
   ]
  },
  {
   "cell_type": "code",
   "execution_count": 2,
   "metadata": {},
   "outputs": [
    {
     "name": "stdout",
     "output_type": "stream",
     "text": [
      "11\n",
      "po\n",
      "10\n",
      "ca\n"
     ]
    }
   ],
   "source": [
    "class Dog:\n",
    "    def __init__(self, raça):\n",
    "        self.idade = 10\n",
    "        self.raça = raça\n",
    "        \n",
    "    def envelhecer(self):\n",
    "        self.idade += 1\n",
    "dog = Dog(input(\"digite a raça \"))\n",
    "dog2 = Dog(input(\"digite a raça \"))\n",
    "\n",
    "dog.envelhecer()\n",
    "print(dog.idade)\n",
    "print(dog.raça)\n",
    "print(dog2.idade)\n",
    "print(dog2.raça)"
   ]
  },
  {
   "cell_type": "code",
   "execution_count": 17,
   "metadata": {},
   "outputs": [
    {
     "name": "stdout",
     "output_type": "stream",
     "text": [
      "1\n",
      "2\n"
     ]
    }
   ],
   "source": [
    "class Circle:\n",
    "    def __init__(self, raio=1):\n",
    "        self.raio = raio\n",
    "\n",
    "    def calcular_area(self):\n",
    "        return self.raio**2 *3.14\n",
    "c1 = Circle()\n",
    "c2 = Circle(2)\n",
    "print(c1.raio)\n",
    "print(c2.raio)\n",
    "print(c1.calcular_area())\n",
    "print(c2.calcular_area())"
   ]
  },
  {
   "attachments": {},
   "cell_type": "markdown",
   "metadata": {},
   "source": [
    "Herança"
   ]
  },
  {
   "cell_type": "code",
   "execution_count": 25,
   "metadata": {},
   "outputs": [
    {
     "name": "stdout",
     "output_type": "stream",
     "text": [
      "cachorro criado\n",
      "Sou um cachorro\n"
     ]
    }
   ],
   "source": [
    "class animals:\n",
    "    def __init__(self):\n",
    "        print(\"animal criado\")\n",
    "    def quem_sou_eu(self):\n",
    "        print(\"Sou um animal\")\n",
    "    def comer(self):\n",
    "        print(\"comendo\")\n",
    "        \n",
    "class cachorro(animals):\n",
    "    def __init__(self):\n",
    "        print(\"cachorro criado\")\n",
    "    def quem_sou_eu(self):\n",
    "        print(\"Sou um cachorro\")\n",
    "\n",
    "dog = cachorro()\n",
    "dog.quem_sou_eu()\n"
   ]
  },
  {
   "cell_type": "code",
   "execution_count": null,
   "metadata": {},
   "outputs": [],
   "source": []
  }
 ],
 "metadata": {
  "kernelspec": {
   "display_name": "Python 3",
   "language": "python",
   "name": "python3"
  },
  "language_info": {
   "codemirror_mode": {
    "name": "ipython",
    "version": 3
   },
   "file_extension": ".py",
   "mimetype": "text/x-python",
   "name": "python",
   "nbconvert_exporter": "python",
   "pygments_lexer": "ipython3",
   "version": "3.10.10"
  },
  "orig_nbformat": 4,
  "vscode": {
   "interpreter": {
    "hash": "a141e979f47d0321f552a3a7e629b4f252c2696d405db34dd45befa51abe3df3"
   }
  }
 },
 "nbformat": 4,
 "nbformat_minor": 2
}
